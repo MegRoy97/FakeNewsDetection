{
  "nbformat": 4,
  "nbformat_minor": 0,
  "metadata": {
    "colab": {
      "name": "FND.ipynb",
      "provenance": [],
      "authorship_tag": "ABX9TyPg8V8n7S1WvUn3ym/6hy2A",
      "include_colab_link": true
    },
    "kernelspec": {
      "name": "python3",
      "display_name": "Python 3"
    }
  },
  "cells": [
    {
      "cell_type": "markdown",
      "metadata": {
        "id": "view-in-github",
        "colab_type": "text"
      },
      "source": [
        "<a href=\"https://colab.research.google.com/github/MegRoy97/FakeNewsDetection/blob/master/FND.ipynb\" target=\"_parent\"><img src=\"https://colab.research.google.com/assets/colab-badge.svg\" alt=\"Open In Colab\"/></a>"
      ]
    },
    {
      "cell_type": "code",
      "metadata": {
        "id": "T6t2a70PPwK4",
        "colab_type": "code",
        "colab": {}
      },
      "source": [
        "import pandas as pd\n",
        "import numpy as np\n",
        "import string\n",
        "import re\n",
        "import nltk\n",
        "from nltk.corpus import stopwords\n",
        "from sklearn.feature_extraction.text import TfidfVectorizer\n",
        "from sklearn.metrics import confusion_matrix \n",
        "from sklearn.model_selection import train_test_split\n",
        "from sklearn.tree import DecisionTreeClassifier \n",
        "from sklearn.metrics import accuracy_score \n",
        "from sklearn.metrics import classification_report"
      ],
      "execution_count": 0,
      "outputs": []
    },
    {
      "cell_type": "code",
      "metadata": {
        "id": "6krNU8ASmncP",
        "colab_type": "code",
        "colab": {
          "base_uri": "https://localhost:8080/",
          "height": 206
        },
        "outputId": "719a32b4-55aa-4bbb-9001-98c9a534ea25"
      },
      "source": [
        "data=pd.read_csv(\"../data.csv\")\n",
        "data.head()"
      ],
      "execution_count": 5,
      "outputs": [
        {
          "output_type": "execute_result",
          "data": {
            "text/html": [
              "<div>\n",
              "<style scoped>\n",
              "    .dataframe tbody tr th:only-of-type {\n",
              "        vertical-align: middle;\n",
              "    }\n",
              "\n",
              "    .dataframe tbody tr th {\n",
              "        vertical-align: top;\n",
              "    }\n",
              "\n",
              "    .dataframe thead th {\n",
              "        text-align: right;\n",
              "    }\n",
              "</style>\n",
              "<table border=\"1\" class=\"dataframe\">\n",
              "  <thead>\n",
              "    <tr style=\"text-align: right;\">\n",
              "      <th></th>\n",
              "      <th>URLs</th>\n",
              "      <th>Headline</th>\n",
              "      <th>Body</th>\n",
              "      <th>Label</th>\n",
              "    </tr>\n",
              "  </thead>\n",
              "  <tbody>\n",
              "    <tr>\n",
              "      <th>0</th>\n",
              "      <td>http://www.bbc.com/news/world-us-canada-414191...</td>\n",
              "      <td>Four ways Bob Corker skewered Donald Trump</td>\n",
              "      <td>Image copyright Getty Images\\nOn Sunday mornin...</td>\n",
              "      <td>1</td>\n",
              "    </tr>\n",
              "    <tr>\n",
              "      <th>1</th>\n",
              "      <td>https://www.reuters.com/article/us-filmfestiva...</td>\n",
              "      <td>Linklater's war veteran comedy speaks to moder...</td>\n",
              "      <td>LONDON (Reuters) - “Last Flag Flying”, a comed...</td>\n",
              "      <td>1</td>\n",
              "    </tr>\n",
              "    <tr>\n",
              "      <th>2</th>\n",
              "      <td>https://www.nytimes.com/2017/10/09/us/politics...</td>\n",
              "      <td>Trump’s Fight With Corker Jeopardizes His Legi...</td>\n",
              "      <td>The feud broke into public view last week when...</td>\n",
              "      <td>1</td>\n",
              "    </tr>\n",
              "    <tr>\n",
              "      <th>3</th>\n",
              "      <td>https://www.reuters.com/article/us-mexico-oil-...</td>\n",
              "      <td>Egypt's Cheiron wins tie-up with Pemex for Mex...</td>\n",
              "      <td>MEXICO CITY (Reuters) - Egypt’s Cheiron Holdin...</td>\n",
              "      <td>1</td>\n",
              "    </tr>\n",
              "    <tr>\n",
              "      <th>4</th>\n",
              "      <td>http://www.cnn.com/videos/cnnmoney/2017/10/08/...</td>\n",
              "      <td>Jason Aldean opens 'SNL' with Vegas tribute</td>\n",
              "      <td>Country singer Jason Aldean, who was performin...</td>\n",
              "      <td>1</td>\n",
              "    </tr>\n",
              "  </tbody>\n",
              "</table>\n",
              "</div>"
            ],
            "text/plain": [
              "                                                URLs  ... Label\n",
              "0  http://www.bbc.com/news/world-us-canada-414191...  ...     1\n",
              "1  https://www.reuters.com/article/us-filmfestiva...  ...     1\n",
              "2  https://www.nytimes.com/2017/10/09/us/politics...  ...     1\n",
              "3  https://www.reuters.com/article/us-mexico-oil-...  ...     1\n",
              "4  http://www.cnn.com/videos/cnnmoney/2017/10/08/...  ...     1\n",
              "\n",
              "[5 rows x 4 columns]"
            ]
          },
          "metadata": {
            "tags": []
          },
          "execution_count": 5
        }
      ]
    },
    {
      "cell_type": "code",
      "metadata": {
        "id": "g-EotsMdPaq5",
        "colab_type": "code",
        "colab": {
          "base_uri": "https://localhost:8080/",
          "height": 293
        },
        "outputId": "1501f7de-2889-426b-d42a-54ebf7a31924"
      },
      "source": [
        "data['News']=data['Headline']+' '+data['Body']\n",
        "data.head()"
      ],
      "execution_count": 6,
      "outputs": [
        {
          "output_type": "execute_result",
          "data": {
            "text/html": [
              "<div>\n",
              "<style scoped>\n",
              "    .dataframe tbody tr th:only-of-type {\n",
              "        vertical-align: middle;\n",
              "    }\n",
              "\n",
              "    .dataframe tbody tr th {\n",
              "        vertical-align: top;\n",
              "    }\n",
              "\n",
              "    .dataframe thead th {\n",
              "        text-align: right;\n",
              "    }\n",
              "</style>\n",
              "<table border=\"1\" class=\"dataframe\">\n",
              "  <thead>\n",
              "    <tr style=\"text-align: right;\">\n",
              "      <th></th>\n",
              "      <th>URLs</th>\n",
              "      <th>Headline</th>\n",
              "      <th>Body</th>\n",
              "      <th>Label</th>\n",
              "      <th>News</th>\n",
              "    </tr>\n",
              "  </thead>\n",
              "  <tbody>\n",
              "    <tr>\n",
              "      <th>0</th>\n",
              "      <td>http://www.bbc.com/news/world-us-canada-414191...</td>\n",
              "      <td>Four ways Bob Corker skewered Donald Trump</td>\n",
              "      <td>Image copyright Getty Images\\nOn Sunday mornin...</td>\n",
              "      <td>1</td>\n",
              "      <td>Four ways Bob Corker skewered Donald Trump Ima...</td>\n",
              "    </tr>\n",
              "    <tr>\n",
              "      <th>1</th>\n",
              "      <td>https://www.reuters.com/article/us-filmfestiva...</td>\n",
              "      <td>Linklater's war veteran comedy speaks to moder...</td>\n",
              "      <td>LONDON (Reuters) - “Last Flag Flying”, a comed...</td>\n",
              "      <td>1</td>\n",
              "      <td>Linklater's war veteran comedy speaks to moder...</td>\n",
              "    </tr>\n",
              "    <tr>\n",
              "      <th>2</th>\n",
              "      <td>https://www.nytimes.com/2017/10/09/us/politics...</td>\n",
              "      <td>Trump’s Fight With Corker Jeopardizes His Legi...</td>\n",
              "      <td>The feud broke into public view last week when...</td>\n",
              "      <td>1</td>\n",
              "      <td>Trump’s Fight With Corker Jeopardizes His Legi...</td>\n",
              "    </tr>\n",
              "    <tr>\n",
              "      <th>3</th>\n",
              "      <td>https://www.reuters.com/article/us-mexico-oil-...</td>\n",
              "      <td>Egypt's Cheiron wins tie-up with Pemex for Mex...</td>\n",
              "      <td>MEXICO CITY (Reuters) - Egypt’s Cheiron Holdin...</td>\n",
              "      <td>1</td>\n",
              "      <td>Egypt's Cheiron wins tie-up with Pemex for Mex...</td>\n",
              "    </tr>\n",
              "    <tr>\n",
              "      <th>4</th>\n",
              "      <td>http://www.cnn.com/videos/cnnmoney/2017/10/08/...</td>\n",
              "      <td>Jason Aldean opens 'SNL' with Vegas tribute</td>\n",
              "      <td>Country singer Jason Aldean, who was performin...</td>\n",
              "      <td>1</td>\n",
              "      <td>Jason Aldean opens 'SNL' with Vegas tribute Co...</td>\n",
              "    </tr>\n",
              "  </tbody>\n",
              "</table>\n",
              "</div>"
            ],
            "text/plain": [
              "                                                URLs  ...                                               News\n",
              "0  http://www.bbc.com/news/world-us-canada-414191...  ...  Four ways Bob Corker skewered Donald Trump Ima...\n",
              "1  https://www.reuters.com/article/us-filmfestiva...  ...  Linklater's war veteran comedy speaks to moder...\n",
              "2  https://www.nytimes.com/2017/10/09/us/politics...  ...  Trump’s Fight With Corker Jeopardizes His Legi...\n",
              "3  https://www.reuters.com/article/us-mexico-oil-...  ...  Egypt's Cheiron wins tie-up with Pemex for Mex...\n",
              "4  http://www.cnn.com/videos/cnnmoney/2017/10/08/...  ...  Jason Aldean opens 'SNL' with Vegas tribute Co...\n",
              "\n",
              "[5 rows x 5 columns]"
            ]
          },
          "metadata": {
            "tags": []
          },
          "execution_count": 6
        }
      ]
    },
    {
      "cell_type": "code",
      "metadata": {
        "id": "ruaukAZ0PivS",
        "colab_type": "code",
        "colab": {
          "base_uri": "https://localhost:8080/",
          "height": 206
        },
        "outputId": "a659f390-1f2b-4dae-951c-3ec0f27cdb23"
      },
      "source": [
        "data=data.drop(columns=\"Headline\")\n",
        "data.head()\n",
        "data=data.drop(columns=\"Body\")\n",
        "data.head()"
      ],
      "execution_count": 7,
      "outputs": [
        {
          "output_type": "execute_result",
          "data": {
            "text/html": [
              "<div>\n",
              "<style scoped>\n",
              "    .dataframe tbody tr th:only-of-type {\n",
              "        vertical-align: middle;\n",
              "    }\n",
              "\n",
              "    .dataframe tbody tr th {\n",
              "        vertical-align: top;\n",
              "    }\n",
              "\n",
              "    .dataframe thead th {\n",
              "        text-align: right;\n",
              "    }\n",
              "</style>\n",
              "<table border=\"1\" class=\"dataframe\">\n",
              "  <thead>\n",
              "    <tr style=\"text-align: right;\">\n",
              "      <th></th>\n",
              "      <th>URLs</th>\n",
              "      <th>Label</th>\n",
              "      <th>News</th>\n",
              "    </tr>\n",
              "  </thead>\n",
              "  <tbody>\n",
              "    <tr>\n",
              "      <th>0</th>\n",
              "      <td>http://www.bbc.com/news/world-us-canada-414191...</td>\n",
              "      <td>1</td>\n",
              "      <td>Four ways Bob Corker skewered Donald Trump Ima...</td>\n",
              "    </tr>\n",
              "    <tr>\n",
              "      <th>1</th>\n",
              "      <td>https://www.reuters.com/article/us-filmfestiva...</td>\n",
              "      <td>1</td>\n",
              "      <td>Linklater's war veteran comedy speaks to moder...</td>\n",
              "    </tr>\n",
              "    <tr>\n",
              "      <th>2</th>\n",
              "      <td>https://www.nytimes.com/2017/10/09/us/politics...</td>\n",
              "      <td>1</td>\n",
              "      <td>Trump’s Fight With Corker Jeopardizes His Legi...</td>\n",
              "    </tr>\n",
              "    <tr>\n",
              "      <th>3</th>\n",
              "      <td>https://www.reuters.com/article/us-mexico-oil-...</td>\n",
              "      <td>1</td>\n",
              "      <td>Egypt's Cheiron wins tie-up with Pemex for Mex...</td>\n",
              "    </tr>\n",
              "    <tr>\n",
              "      <th>4</th>\n",
              "      <td>http://www.cnn.com/videos/cnnmoney/2017/10/08/...</td>\n",
              "      <td>1</td>\n",
              "      <td>Jason Aldean opens 'SNL' with Vegas tribute Co...</td>\n",
              "    </tr>\n",
              "  </tbody>\n",
              "</table>\n",
              "</div>"
            ],
            "text/plain": [
              "                                                URLs  ...                                               News\n",
              "0  http://www.bbc.com/news/world-us-canada-414191...  ...  Four ways Bob Corker skewered Donald Trump Ima...\n",
              "1  https://www.reuters.com/article/us-filmfestiva...  ...  Linklater's war veteran comedy speaks to moder...\n",
              "2  https://www.nytimes.com/2017/10/09/us/politics...  ...  Trump’s Fight With Corker Jeopardizes His Legi...\n",
              "3  https://www.reuters.com/article/us-mexico-oil-...  ...  Egypt's Cheiron wins tie-up with Pemex for Mex...\n",
              "4  http://www.cnn.com/videos/cnnmoney/2017/10/08/...  ...  Jason Aldean opens 'SNL' with Vegas tribute Co...\n",
              "\n",
              "[5 rows x 3 columns]"
            ]
          },
          "metadata": {
            "tags": []
          },
          "execution_count": 7
        }
      ]
    },
    {
      "cell_type": "code",
      "metadata": {
        "id": "7VgA4-XYPmIn",
        "colab_type": "code",
        "colab": {
          "base_uri": "https://localhost:8080/",
          "height": 54
        },
        "outputId": "27c293a8-fe28-4538-ad2b-db8f770191d3"
      },
      "source": [
        "nltk.download('stopwords')\n",
        "nltk_stopwords= stopwords.words('english')"
      ],
      "execution_count": 9,
      "outputs": [
        {
          "output_type": "stream",
          "text": [
            "[nltk_data] Downloading package stopwords to /root/nltk_data...\n",
            "[nltk_data]   Unzipping corpora/stopwords.zip.\n"
          ],
          "name": "stdout"
        }
      ]
    },
    {
      "cell_type": "code",
      "metadata": {
        "id": "CqbxqKAhQRWS",
        "colab_type": "code",
        "colab": {}
      },
      "source": [
        "def clean_column(dframe, columnToClean, newColumn):\n",
        "    df_copy = dframe.copy()\n",
        "    df_copy['copcol'] = df_copy[columnToClean]\n",
        "    df_copy['copcol'] = df_copy['copcol'].str.lower()\n",
        "    newcolumn = []\n",
        "    for label in df_copy.index:\n",
        "        row = df_copy.loc[label, :]['copcol']\n",
        "        clean = re.split(r'[^A-Za-z]+', row)\n",
        "        clean = [x for x in clean if x not in nltk_stopwords]\n",
        "        clean = [x for x in clean if len(x) != 1]\n",
        "        clean = \" \".join(clean)\n",
        "        clean = clean.strip()\n",
        "        newcolumn.append(clean)\n",
        "    df_copy[newColumn] = newcolumn\n",
        "    del df_copy['copcol']\n",
        "    return df_copy\n",
        "\n",
        "def filtered(dframe, col):\n",
        "    dframe[col] = dframe[col].apply(lambda x: x.replace(\" ur \", \" your \"))\n",
        "    dframe[col] = dframe[col].apply(lambda x: x.replace(\" u \", \" you \"))\n",
        "    dframe[col] = dframe[col].apply(lambda x: x.replace(\"&gt;\", \"greater than\"))\n",
        "    dframe[col] = dframe[col].apply(lambda x: x.replace(\"&lt;\", \"less than\"))\n",
        "    dframe[col] = dframe[col].apply(lambda x: x.replace(\" jan \", \" january \"))\n",
        "    dframe[col] = dframe[col].apply(lambda x: x.replace(\" feb \", \" february \"))\n",
        "    dframe[col] = dframe[col].apply(lambda x: x.replace(\" mar \", \" march \"))\n",
        "    dframe[col] = dframe[col].apply(lambda x: x.replace(\" apr \", \" april \"))\n",
        "    dframe[col] = dframe[col].apply(lambda x: x.replace(\" jun \", \" june \"))\n",
        "    dframe[col] = dframe[col].apply(lambda x: x.replace(\" jul \", \" july \"))\n",
        "    dframe[col] = dframe[col].apply(lambda x: x.replace(\" aug \", \" august \"))\n",
        "    dframe[col] = dframe[col].apply(lambda x: x.replace(\" sept \", \" september \"))\n",
        "    dframe[col] = dframe[col].apply(lambda x: x.replace(\" oct \", \" october \"))\n",
        "    dframe[col] = dframe[col].apply(lambda x: x.replace(\" nov \", \" november \"))\n",
        "    dframe[col] = dframe[col].apply(lambda x: x.replace(\" dec \", \" december \"))\n",
        "    dframe[col] = dframe[col].apply(lambda x: x.replace(\" hrs \", \" hours \"))\n",
        "    dframe[col] = dframe[col].apply(lambda x: x.replace(\" btw \", \" by the way \"))\n",
        "    return dframe"
      ],
      "execution_count": 0,
      "outputs": []
    },
    {
      "cell_type": "code",
      "metadata": {
        "id": "d3iHKi9FQfAK",
        "colab_type": "code",
        "colab": {
          "base_uri": "https://localhost:8080/",
          "height": 206
        },
        "outputId": "29f89a93-cd7f-4764-a666-0f2bf67a0426"
      },
      "source": [
        "df1=data.copy()\n",
        "df1.head()"
      ],
      "execution_count": 11,
      "outputs": [
        {
          "output_type": "execute_result",
          "data": {
            "text/html": [
              "<div>\n",
              "<style scoped>\n",
              "    .dataframe tbody tr th:only-of-type {\n",
              "        vertical-align: middle;\n",
              "    }\n",
              "\n",
              "    .dataframe tbody tr th {\n",
              "        vertical-align: top;\n",
              "    }\n",
              "\n",
              "    .dataframe thead th {\n",
              "        text-align: right;\n",
              "    }\n",
              "</style>\n",
              "<table border=\"1\" class=\"dataframe\">\n",
              "  <thead>\n",
              "    <tr style=\"text-align: right;\">\n",
              "      <th></th>\n",
              "      <th>URLs</th>\n",
              "      <th>Label</th>\n",
              "      <th>News</th>\n",
              "    </tr>\n",
              "  </thead>\n",
              "  <tbody>\n",
              "    <tr>\n",
              "      <th>0</th>\n",
              "      <td>http://www.bbc.com/news/world-us-canada-414191...</td>\n",
              "      <td>1</td>\n",
              "      <td>Four ways Bob Corker skewered Donald Trump Ima...</td>\n",
              "    </tr>\n",
              "    <tr>\n",
              "      <th>1</th>\n",
              "      <td>https://www.reuters.com/article/us-filmfestiva...</td>\n",
              "      <td>1</td>\n",
              "      <td>Linklater's war veteran comedy speaks to moder...</td>\n",
              "    </tr>\n",
              "    <tr>\n",
              "      <th>2</th>\n",
              "      <td>https://www.nytimes.com/2017/10/09/us/politics...</td>\n",
              "      <td>1</td>\n",
              "      <td>Trump’s Fight With Corker Jeopardizes His Legi...</td>\n",
              "    </tr>\n",
              "    <tr>\n",
              "      <th>3</th>\n",
              "      <td>https://www.reuters.com/article/us-mexico-oil-...</td>\n",
              "      <td>1</td>\n",
              "      <td>Egypt's Cheiron wins tie-up with Pemex for Mex...</td>\n",
              "    </tr>\n",
              "    <tr>\n",
              "      <th>4</th>\n",
              "      <td>http://www.cnn.com/videos/cnnmoney/2017/10/08/...</td>\n",
              "      <td>1</td>\n",
              "      <td>Jason Aldean opens 'SNL' with Vegas tribute Co...</td>\n",
              "    </tr>\n",
              "  </tbody>\n",
              "</table>\n",
              "</div>"
            ],
            "text/plain": [
              "                                                URLs  ...                                               News\n",
              "0  http://www.bbc.com/news/world-us-canada-414191...  ...  Four ways Bob Corker skewered Donald Trump Ima...\n",
              "1  https://www.reuters.com/article/us-filmfestiva...  ...  Linklater's war veteran comedy speaks to moder...\n",
              "2  https://www.nytimes.com/2017/10/09/us/politics...  ...  Trump’s Fight With Corker Jeopardizes His Legi...\n",
              "3  https://www.reuters.com/article/us-mexico-oil-...  ...  Egypt's Cheiron wins tie-up with Pemex for Mex...\n",
              "4  http://www.cnn.com/videos/cnnmoney/2017/10/08/...  ...  Jason Aldean opens 'SNL' with Vegas tribute Co...\n",
              "\n",
              "[5 rows x 3 columns]"
            ]
          },
          "metadata": {
            "tags": []
          },
          "execution_count": 11
        }
      ]
    },
    {
      "cell_type": "code",
      "metadata": {
        "id": "K5sPwcc0Qwjp",
        "colab_type": "code",
        "colab": {
          "base_uri": "https://localhost:8080/",
          "height": 240
        },
        "outputId": "3971aced-73b0-4094-ad85-296f289747d5"
      },
      "source": [
        "print(data.isna().any(axis=1))"
      ],
      "execution_count": 12,
      "outputs": [
        {
          "output_type": "stream",
          "text": [
            "0       False\n",
            "1       False\n",
            "2       False\n",
            "3       False\n",
            "4       False\n",
            "        ...  \n",
            "4004    False\n",
            "4005    False\n",
            "4006     True\n",
            "4007    False\n",
            "4008    False\n",
            "Length: 4009, dtype: bool\n"
          ],
          "name": "stdout"
        }
      ]
    },
    {
      "cell_type": "code",
      "metadata": {
        "id": "0QR66adbQxTe",
        "colab_type": "code",
        "colab": {}
      },
      "source": [
        "data=data[data.News.notnull()]"
      ],
      "execution_count": 0,
      "outputs": []
    },
    {
      "cell_type": "code",
      "metadata": {
        "id": "EoPzXqyfQzzk",
        "colab_type": "code",
        "colab": {
          "base_uri": "https://localhost:8080/",
          "height": 50
        },
        "outputId": "2523b774-4676-4ffc-dbe2-90c4fb7c47af"
      },
      "source": [
        "data[data['News'].isnull()]"
      ],
      "execution_count": 14,
      "outputs": [
        {
          "output_type": "execute_result",
          "data": {
            "text/html": [
              "<div>\n",
              "<style scoped>\n",
              "    .dataframe tbody tr th:only-of-type {\n",
              "        vertical-align: middle;\n",
              "    }\n",
              "\n",
              "    .dataframe tbody tr th {\n",
              "        vertical-align: top;\n",
              "    }\n",
              "\n",
              "    .dataframe thead th {\n",
              "        text-align: right;\n",
              "    }\n",
              "</style>\n",
              "<table border=\"1\" class=\"dataframe\">\n",
              "  <thead>\n",
              "    <tr style=\"text-align: right;\">\n",
              "      <th></th>\n",
              "      <th>URLs</th>\n",
              "      <th>Label</th>\n",
              "      <th>News</th>\n",
              "    </tr>\n",
              "  </thead>\n",
              "  <tbody>\n",
              "  </tbody>\n",
              "</table>\n",
              "</div>"
            ],
            "text/plain": [
              "Empty DataFrame\n",
              "Columns: [URLs, Label, News]\n",
              "Index: []"
            ]
          },
          "metadata": {
            "tags": []
          },
          "execution_count": 14
        }
      ]
    },
    {
      "cell_type": "code",
      "metadata": {
        "id": "5RP6HSxbQ3Po",
        "colab_type": "code",
        "colab": {}
      },
      "source": [
        "df1=data.copy()\n",
        "df1 = clean_column(df1, 'News', 'clean_News')"
      ],
      "execution_count": 0,
      "outputs": []
    },
    {
      "cell_type": "code",
      "metadata": {
        "id": "04j709ZpRBvG",
        "colab_type": "code",
        "colab": {
          "base_uri": "https://localhost:8080/",
          "height": 240
        },
        "outputId": "0ca4ac25-8e2c-4857-8529-aa4769a2b07f"
      },
      "source": [
        "df1['clean_News']"
      ],
      "execution_count": 16,
      "outputs": [
        {
          "output_type": "execute_result",
          "data": {
            "text/plain": [
              "0       four ways bob corker skewered donald trump ima...\n",
              "1       linklater war veteran comedy speaks modern ame...\n",
              "2       trump fight corker jeopardizes legislative age...\n",
              "3       egypt cheiron wins tie pemex mexican onshore o...\n",
              "4       jason aldean opens snl vegas tribute country s...\n",
              "                              ...                        \n",
              "4003    cnn globalist exposed steve quayle alex jones ...\n",
              "4004    trends watch trends watch readers think story ...\n",
              "4005    trump jr soon give minute speech trump jr soon...\n",
              "4007    china accept overseas trial data bid speed dru...\n",
              "4008    vice president mike pence leaves nfl game anti...\n",
              "Name: clean_News, Length: 3988, dtype: object"
            ]
          },
          "metadata": {
            "tags": []
          },
          "execution_count": 16
        }
      ]
    },
    {
      "cell_type": "code",
      "metadata": {
        "id": "L0c1te-fRGgV",
        "colab_type": "code",
        "colab": {
          "base_uri": "https://localhost:8080/",
          "height": 240
        },
        "outputId": "c01fe1db-4cc7-4f35-805e-72670f60ea88"
      },
      "source": [
        "df1 = filtered(df1, 'clean_News')\n",
        "df1['clean_News']"
      ],
      "execution_count": 17,
      "outputs": [
        {
          "output_type": "execute_result",
          "data": {
            "text/plain": [
              "0       four ways bob corker skewered donald trump ima...\n",
              "1       linklater war veteran comedy speaks modern ame...\n",
              "2       trump fight corker jeopardizes legislative age...\n",
              "3       egypt cheiron wins tie pemex mexican onshore o...\n",
              "4       jason aldean opens snl vegas tribute country s...\n",
              "                              ...                        \n",
              "4003    cnn globalist exposed steve quayle alex jones ...\n",
              "4004    trends watch trends watch readers think story ...\n",
              "4005    trump jr soon give minute speech trump jr soon...\n",
              "4007    china accept overseas trial data bid speed dru...\n",
              "4008    vice president mike pence leaves nfl game anti...\n",
              "Name: clean_News, Length: 3988, dtype: object"
            ]
          },
          "metadata": {
            "tags": []
          },
          "execution_count": 17
        }
      ]
    },
    {
      "cell_type": "code",
      "metadata": {
        "id": "R1FYAuLNRLi9",
        "colab_type": "code",
        "colab": {}
      },
      "source": [
        "df1.to_pickle(\"cleanedData.pkl\")"
      ],
      "execution_count": 0,
      "outputs": []
    },
    {
      "cell_type": "code",
      "metadata": {
        "id": "uFK0KCkWRwqQ",
        "colab_type": "code",
        "colab": {
          "base_uri": "https://localhost:8080/",
          "height": 73
        },
        "outputId": "e1015b1d-e79b-444e-bcf7-ebc32bc7cb9b"
      },
      "source": [
        "nltk.download('wordnet')"
      ],
      "execution_count": 23,
      "outputs": [
        {
          "output_type": "stream",
          "text": [
            "[nltk_data] Downloading package wordnet to /root/nltk_data...\n",
            "[nltk_data]   Unzipping corpora/wordnet.zip.\n"
          ],
          "name": "stdout"
        },
        {
          "output_type": "execute_result",
          "data": {
            "text/plain": [
              "True"
            ]
          },
          "metadata": {
            "tags": []
          },
          "execution_count": 23
        }
      ]
    },
    {
      "cell_type": "code",
      "metadata": {
        "id": "x231vqayRqiQ",
        "colab_type": "code",
        "colab": {
          "base_uri": "https://localhost:8080/",
          "height": 73
        },
        "outputId": "da4e1cbe-70fa-49d2-f0ec-843bf022e1db"
      },
      "source": [
        "nltk.download('punkt')"
      ],
      "execution_count": 21,
      "outputs": [
        {
          "output_type": "stream",
          "text": [
            "[nltk_data] Downloading package punkt to /root/nltk_data...\n",
            "[nltk_data]   Unzipping tokenizers/punkt.zip.\n"
          ],
          "name": "stdout"
        },
        {
          "output_type": "execute_result",
          "data": {
            "text/plain": [
              "True"
            ]
          },
          "metadata": {
            "tags": []
          },
          "execution_count": 21
        }
      ]
    },
    {
      "cell_type": "code",
      "metadata": {
        "id": "kHmeqeF0RUAV",
        "colab_type": "code",
        "colab": {}
      },
      "source": [
        "from nltk.stem import WordNetLemmatizer\n",
        "lemmatizer=WordNetLemmatizer()\n",
        "df2=df1.copy()\n",
        "df2['new_col']=df1['clean_News']\n",
        "lemm_col=[]\n",
        "for label1 in df2.index:\n",
        "    row = df2.loc[label1, :]['new_col']\n",
        "    clean = nltk.word_tokenize(row)\n",
        "    clean=' '.join([lemmatizer.lemmatize(w) for w in clean])\n",
        "    lemm_col.append(clean)\n",
        "df2['new_col']=lemm_col"
      ],
      "execution_count": 0,
      "outputs": []
    },
    {
      "cell_type": "code",
      "metadata": {
        "id": "ofFmwZs2R6E7",
        "colab_type": "code",
        "colab": {
          "base_uri": "https://localhost:8080/",
          "height": 293
        },
        "outputId": "244624c6-943c-405d-ad2f-5dfb40021e04"
      },
      "source": [
        "df2.head()"
      ],
      "execution_count": 25,
      "outputs": [
        {
          "output_type": "execute_result",
          "data": {
            "text/html": [
              "<div>\n",
              "<style scoped>\n",
              "    .dataframe tbody tr th:only-of-type {\n",
              "        vertical-align: middle;\n",
              "    }\n",
              "\n",
              "    .dataframe tbody tr th {\n",
              "        vertical-align: top;\n",
              "    }\n",
              "\n",
              "    .dataframe thead th {\n",
              "        text-align: right;\n",
              "    }\n",
              "</style>\n",
              "<table border=\"1\" class=\"dataframe\">\n",
              "  <thead>\n",
              "    <tr style=\"text-align: right;\">\n",
              "      <th></th>\n",
              "      <th>URLs</th>\n",
              "      <th>Label</th>\n",
              "      <th>News</th>\n",
              "      <th>clean_News</th>\n",
              "      <th>new_col</th>\n",
              "    </tr>\n",
              "  </thead>\n",
              "  <tbody>\n",
              "    <tr>\n",
              "      <th>0</th>\n",
              "      <td>http://www.bbc.com/news/world-us-canada-414191...</td>\n",
              "      <td>1</td>\n",
              "      <td>Four ways Bob Corker skewered Donald Trump Ima...</td>\n",
              "      <td>four ways bob corker skewered donald trump ima...</td>\n",
              "      <td>four way bob corker skewered donald trump imag...</td>\n",
              "    </tr>\n",
              "    <tr>\n",
              "      <th>1</th>\n",
              "      <td>https://www.reuters.com/article/us-filmfestiva...</td>\n",
              "      <td>1</td>\n",
              "      <td>Linklater's war veteran comedy speaks to moder...</td>\n",
              "      <td>linklater war veteran comedy speaks modern ame...</td>\n",
              "      <td>linklater war veteran comedy speaks modern ame...</td>\n",
              "    </tr>\n",
              "    <tr>\n",
              "      <th>2</th>\n",
              "      <td>https://www.nytimes.com/2017/10/09/us/politics...</td>\n",
              "      <td>1</td>\n",
              "      <td>Trump’s Fight With Corker Jeopardizes His Legi...</td>\n",
              "      <td>trump fight corker jeopardizes legislative age...</td>\n",
              "      <td>trump fight corker jeopardizes legislative age...</td>\n",
              "    </tr>\n",
              "    <tr>\n",
              "      <th>3</th>\n",
              "      <td>https://www.reuters.com/article/us-mexico-oil-...</td>\n",
              "      <td>1</td>\n",
              "      <td>Egypt's Cheiron wins tie-up with Pemex for Mex...</td>\n",
              "      <td>egypt cheiron wins tie pemex mexican onshore o...</td>\n",
              "      <td>egypt cheiron win tie pemex mexican onshore oi...</td>\n",
              "    </tr>\n",
              "    <tr>\n",
              "      <th>4</th>\n",
              "      <td>http://www.cnn.com/videos/cnnmoney/2017/10/08/...</td>\n",
              "      <td>1</td>\n",
              "      <td>Jason Aldean opens 'SNL' with Vegas tribute Co...</td>\n",
              "      <td>jason aldean opens snl vegas tribute country s...</td>\n",
              "      <td>jason aldean open snl vega tribute country sin...</td>\n",
              "    </tr>\n",
              "  </tbody>\n",
              "</table>\n",
              "</div>"
            ],
            "text/plain": [
              "                                                URLs  ...                                            new_col\n",
              "0  http://www.bbc.com/news/world-us-canada-414191...  ...  four way bob corker skewered donald trump imag...\n",
              "1  https://www.reuters.com/article/us-filmfestiva...  ...  linklater war veteran comedy speaks modern ame...\n",
              "2  https://www.nytimes.com/2017/10/09/us/politics...  ...  trump fight corker jeopardizes legislative age...\n",
              "3  https://www.reuters.com/article/us-mexico-oil-...  ...  egypt cheiron win tie pemex mexican onshore oi...\n",
              "4  http://www.cnn.com/videos/cnnmoney/2017/10/08/...  ...  jason aldean open snl vega tribute country sin...\n",
              "\n",
              "[5 rows x 5 columns]"
            ]
          },
          "metadata": {
            "tags": []
          },
          "execution_count": 25
        }
      ]
    },
    {
      "cell_type": "code",
      "metadata": {
        "id": "OH130xmWSMI1",
        "colab_type": "code",
        "colab": {}
      },
      "source": [
        "df2.to_pickle(\"df2.pkl\")"
      ],
      "execution_count": 0,
      "outputs": []
    },
    {
      "cell_type": "code",
      "metadata": {
        "id": "1TJmhynnSTR-",
        "colab_type": "code",
        "colab": {
          "base_uri": "https://localhost:8080/",
          "height": 36
        },
        "outputId": "d3046ccf-4ea3-4b66-f5d6-11986cf1a5f5"
      },
      "source": [
        "tfidf = TfidfVectorizer(ngram_range=(2,2), max_df= 0.85, min_df= 0.01)\n",
        "X=df2['new_col']\n",
        "Y=df2['Label']\n",
        "X_train, X_test, y_train, y_test = train_test_split(X, Y, test_size = 0.3, random_state = 50)\n",
        "X_train_tfidf=tfidf.fit_transform(X_train)\n",
        "num=len(tfidf.get_feature_names())\n",
        "num"
      ],
      "execution_count": 27,
      "outputs": [
        {
          "output_type": "execute_result",
          "data": {
            "text/plain": [
              "649"
            ]
          },
          "metadata": {
            "tags": []
          },
          "execution_count": 27
        }
      ]
    },
    {
      "cell_type": "code",
      "metadata": {
        "id": "svJGOYNFSlLW",
        "colab_type": "code",
        "colab": {
          "base_uri": "https://localhost:8080/",
          "height": 36
        },
        "outputId": "ce26783a-75d2-4ba8-f0d8-7fa6c2462e62"
      },
      "source": [
        "tfidf = TfidfVectorizer(ngram_range=(2,2), max_df= 0.85, min_df= 0.01, max_features=num)\n",
        "X_test_tfidf=tfidf.fit_transform(X_test)\n",
        "num=len(tfidf.get_feature_names())\n",
        "num"
      ],
      "execution_count": 28,
      "outputs": [
        {
          "output_type": "execute_result",
          "data": {
            "text/plain": [
              "649"
            ]
          },
          "metadata": {
            "tags": []
          },
          "execution_count": 28
        }
      ]
    },
    {
      "cell_type": "code",
      "metadata": {
        "id": "asDccYBRSwEO",
        "colab_type": "code",
        "colab": {
          "base_uri": "https://localhost:8080/",
          "height": 129
        },
        "outputId": "151a20eb-d627-4284-933b-b7bac114de59"
      },
      "source": [
        "#DECISION TREE USING GINI INDEX\n",
        "clf_gini = DecisionTreeClassifier(criterion = \"gini\", \n",
        "            random_state = 85,max_depth=10, min_samples_leaf=2) \n",
        "clf_gini.fit(X_train_tfidf, y_train) "
      ],
      "execution_count": 29,
      "outputs": [
        {
          "output_type": "execute_result",
          "data": {
            "text/plain": [
              "DecisionTreeClassifier(ccp_alpha=0.0, class_weight=None, criterion='gini',\n",
              "                       max_depth=10, max_features=None, max_leaf_nodes=None,\n",
              "                       min_impurity_decrease=0.0, min_impurity_split=None,\n",
              "                       min_samples_leaf=2, min_samples_split=2,\n",
              "                       min_weight_fraction_leaf=0.0, presort='deprecated',\n",
              "                       random_state=85, splitter='best')"
            ]
          },
          "metadata": {
            "tags": []
          },
          "execution_count": 29
        }
      ]
    },
    {
      "cell_type": "code",
      "metadata": {
        "id": "_mjFsQ49Sz6m",
        "colab_type": "code",
        "colab": {
          "base_uri": "https://localhost:8080/",
          "height": 36
        },
        "outputId": "16cdf03c-ae4e-473a-d3f7-45f9a34ddd74"
      },
      "source": [
        "y_pred=clf_gini.predict(X_test_tfidf)\n",
        "print(y_pred)"
      ],
      "execution_count": 30,
      "outputs": [
        {
          "output_type": "stream",
          "text": [
            "[1 1 1 ... 0 1 1]\n"
          ],
          "name": "stdout"
        }
      ]
    },
    {
      "cell_type": "code",
      "metadata": {
        "id": "70Wd_hbhS2gg",
        "colab_type": "code",
        "colab": {
          "base_uri": "https://localhost:8080/",
          "height": 36
        },
        "outputId": "23897146-60ef-4a2c-8ee4-78415883dec6"
      },
      "source": [
        "from sklearn.metrics import accuracy_score\n",
        "score=accuracy_score(y_test,y_pred)\n",
        "score*100"
      ],
      "execution_count": 31,
      "outputs": [
        {
          "output_type": "execute_result",
          "data": {
            "text/plain": [
              "77.61069340016708"
            ]
          },
          "metadata": {
            "tags": []
          },
          "execution_count": 31
        }
      ]
    },
    {
      "cell_type": "code",
      "metadata": {
        "id": "uoEl6894S4gY",
        "colab_type": "code",
        "colab": {
          "base_uri": "https://localhost:8080/",
          "height": 36
        },
        "outputId": "2f16a2fb-e0fa-44f8-c19d-132a0bdea70b"
      },
      "source": [
        "from sklearn import model_selection, naive_bayes, svm\n",
        "\n",
        "#NAIVE BAYES CLASSIFIER\n",
        "nbc=naive_bayes.MultinomialNB()\n",
        "nbc.fit(X_train_tfidf, y_train)\n",
        "y_pred_nbc=nbc.predict(X_test_tfidf)\n",
        "y_pred_nbc"
      ],
      "execution_count": 32,
      "outputs": [
        {
          "output_type": "execute_result",
          "data": {
            "text/plain": [
              "array([0, 1, 0, ..., 0, 1, 1])"
            ]
          },
          "metadata": {
            "tags": []
          },
          "execution_count": 32
        }
      ]
    },
    {
      "cell_type": "code",
      "metadata": {
        "id": "YMiA1CGkTB6Y",
        "colab_type": "code",
        "colab": {
          "base_uri": "https://localhost:8080/",
          "height": 36
        },
        "outputId": "04f88ee9-a0fc-4fc8-fa07-b66b2328c9e6"
      },
      "source": [
        "score=accuracy_score(y_test,y_pred_nbc)\n",
        "score*100"
      ],
      "execution_count": 33,
      "outputs": [
        {
          "output_type": "execute_result",
          "data": {
            "text/plain": [
              "70.59314954051797"
            ]
          },
          "metadata": {
            "tags": []
          },
          "execution_count": 33
        }
      ]
    },
    {
      "cell_type": "code",
      "metadata": {
        "id": "q5qluKnoTD0x",
        "colab_type": "code",
        "colab": {
          "base_uri": "https://localhost:8080/",
          "height": 36
        },
        "outputId": "53a69f89-aec5-4183-9f48-87bcde3613e2"
      },
      "source": [
        "#SVM\n",
        "svmc=svm.SVC(C=10,kernel='linear')\n",
        "svmc.fit(X_train_tfidf,y_train)\n",
        "y_pred_svm=svmc.predict(X_test_tfidf)\n",
        "y_pred_svm"
      ],
      "execution_count": 36,
      "outputs": [
        {
          "output_type": "execute_result",
          "data": {
            "text/plain": [
              "array([1, 1, 1, ..., 0, 0, 1])"
            ]
          },
          "metadata": {
            "tags": []
          },
          "execution_count": 36
        }
      ]
    },
    {
      "cell_type": "code",
      "metadata": {
        "id": "HF3IBlFJTTdP",
        "colab_type": "code",
        "colab": {
          "base_uri": "https://localhost:8080/",
          "height": 36
        },
        "outputId": "b223ff2a-5903-4a48-dd65-6ddd41465128"
      },
      "source": [
        "score=accuracy_score(y_test,y_pred_svm)\n",
        "score*100"
      ],
      "execution_count": 37,
      "outputs": [
        {
          "output_type": "execute_result",
          "data": {
            "text/plain": [
              "73.26649958228906"
            ]
          },
          "metadata": {
            "tags": []
          },
          "execution_count": 37
        }
      ]
    }
  ]
}